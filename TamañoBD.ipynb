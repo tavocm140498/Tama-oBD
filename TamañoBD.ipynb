{
  "nbformat": 4,
  "nbformat_minor": 0,
  "metadata": {
    "colab": {
      "name": "TamañoBD",
      "provenance": []
    },
    "kernelspec": {
      "name": "python3",
      "display_name": "Python 3"
    }
  },
  "cells": [
    {
      "cell_type": "code",
      "metadata": {
        "id": "hYSrWU2YPBSj",
        "colab_type": "code",
        "colab": {}
      },
      "source": [
        "registros = {\"ID\" : {\"serial\" : 4}, \"Nombre Hospital\" : {\"varchar\" : 150}, \"Dirección\" : {\"varchar\" : 300}, \"Servicio Publico\" : {\"varchar\" : 45}, \"Numero de trabajadores\" : {\"integer\" : 4}, \"Especialidad\" : {\"varchar\" : 90}, \"Horario\" : {\"interval\" : 12}, \"Pacientes\" : {\"integer\" : 4}, \"Camas\" : {\"integer\" : 4}, \"Salas\" : {\"integer\" : 4}, \"Elavadores\" : {\"integer\" : 4}, \"Edificios\" : {\"integer\" : 4}, \"Extensión\" : {\"integer\" : 4}, \"Teléfono\" : {\"numeric\" : 10}, \"Correo\" : {\"varchar\" : 90}, \"Pagina Web\" : {\"varchar\" : 120}, \"Nombre del Director\" : {\"varchar\" : 120}, \"Ranking\" : {\"integer\" : 4}, \"Fecha de apertura\" : {\"date\" : 4}}\n",
        "\n",
        "tamañodefila = 0\n",
        "tamañodepagina = 0\n",
        "tamañoBD = 0\n",
        "\n",
        "nomregistros = registros.keys()\n",
        "tiposdedatos = registros.values()\n",
        "elementos = registros.items()\n",
        "\n",
        "print(\"\\nLOS TIPOS DE DATOS DE LA TABLA SON: \\n\")\n",
        "\n",
        "for nomregistros, tiposdedatos in elementos:\n",
        "    print(nomregistros, \"-->\", tiposdedatos)\n",
        "\n",
        "print(\"----------------------------------------------\")\n",
        "\n",
        "for v in registros.values():\n",
        "    for i in v.values():\n",
        "        tamañodefila = i + tamañodefila\n",
        "\n",
        "print(\"Tenemos 50,627,392 registros.\\nTenemos 35 filas por pagina.\")\n",
        "\n",
        "print(\"El tamaño de la fila es: {}\".format(tamañodefila))\n",
        "print(\"El tamaño de la página es: {}\".format(tamañodefila*35))\n",
        "print(\"El tamaño de la BD es: {}\".format((50627392*tamañodefila)/35))"
      ],
      "execution_count": 0,
      "outputs": []
    }
  ]
}